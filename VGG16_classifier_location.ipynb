{
  "nbformat": 4,
  "nbformat_minor": 0,
  "metadata": {
    "colab": {
      "provenance": [],
      "authorship_tag": "ABX9TyOHlhFabpxbcJWl4sFQCiSH",
      "include_colab_link": true
    },
    "kernelspec": {
      "name": "python3",
      "display_name": "Python 3"
    },
    "language_info": {
      "name": "python"
    }
  },
  "cells": [
    {
      "cell_type": "markdown",
      "metadata": {
        "id": "view-in-github",
        "colab_type": "text"
      },
      "source": [
        "<a href=\"https://colab.research.google.com/github/MoLo404Ko/VGG16_classifierLocation/blob/main/VGG16_classifier_location.ipynb\" target=\"_parent\"><img src=\"https://colab.research.google.com/assets/colab-badge.svg\" alt=\"Open In Colab\"/></a>"
      ]
    },
    {
      "cell_type": "code",
      "execution_count": 59,
      "metadata": {
        "id": "4MfQ38Xg6lKb"
      },
      "outputs": [],
      "source": [
        "import tensorflow as tf\n",
        "import pandas as pd\n",
        "import numpy as np\n",
        "import keras\n",
        "from keras import utils as np_utils\n",
        "from keras.models import Sequential\n",
        "from keras.layers import Flatten, Dense\n",
        "import numpy as np\n",
        "import cv2\n",
        "from google.colab.patches import cv2_imshow\n",
        "import os\n",
        "from glob import glob\n",
        "from PIL import Image\n",
        "from keras.applications import vgg16\n",
        "from keras.applications.imagenet_utils import preprocess_input"
      ]
    },
    {
      "cell_type": "markdown",
      "source": [
        "**Загружаем изображения**"
      ],
      "metadata": {
        "id": "vQTXLXHD6rdu"
      }
    },
    {
      "cell_type": "code",
      "source": [
        "def loadPathsImages():\n",
        "  image_dir = '/content/sample_data/images'\n",
        "  img_df = pd.read_excel('/content/sample_data/dataset/dataset.xlsx')\n",
        "  names = img_df['Путь']\n",
        "  paths = []\n",
        "\n",
        "  for name in names:\n",
        "    full_path = image_dir + \"/\" + str(name)\n",
        "    paths.append(full_path)\n",
        "    print(full_path)\n",
        "\n",
        "  paths = np.asarray(paths)\n",
        "  return paths"
      ],
      "metadata": {
        "id": "p3WW8FjL6vo-"
      },
      "execution_count": 99,
      "outputs": []
    },
    {
      "cell_type": "code",
      "source": [
        "def loadImages(paths):\n",
        "  images = []\n",
        "  for path in paths:\n",
        "    image = Image.open(path)\n",
        "    array = np.array(image)\n",
        "    images.append(array)\n",
        "\n",
        "  return images"
      ],
      "metadata": {
        "id": "PP2PLkKx7g2u"
      },
      "execution_count": 80,
      "outputs": []
    },
    {
      "cell_type": "markdown",
      "source": [
        "**Уменьшаем размер до 224x224 и нормализуем**"
      ],
      "metadata": {
        "id": "B1ZnZwX492R5"
      }
    },
    {
      "cell_type": "code",
      "source": [
        "def resizeImages(images):\n",
        "  reImages = []\n",
        "\n",
        "  for img in images:\n",
        "    new_img = cv2.resize(img, (224, 224))\n",
        "    new_img = new_img / 255\n",
        "    reImages.append(new_img)\n",
        "\n",
        "  return reImages"
      ],
      "metadata": {
        "id": "1sCyTpm-8Hpm"
      },
      "execution_count": 54,
      "outputs": []
    },
    {
      "cell_type": "markdown",
      "source": [
        "**Классы изображений**"
      ],
      "metadata": {
        "id": "571LXbbN_L1T"
      }
    },
    {
      "cell_type": "code",
      "source": [
        "classes = {1:'Лес', 2:'Улица', 3:'Железная дорога', 4:'Кухня', 5:'Набережная', 6:'Комната', 7:'Пляж', 8:\n",
        " 'Гора', 9:'Море', 10:'Река'}"
      ],
      "metadata": {
        "id": "4DFa-5yZ_Ku0"
      },
      "execution_count": 122,
      "outputs": []
    },
    {
      "cell_type": "markdown",
      "source": [
        "**Загружаем метки и кодириуем по OHE**"
      ],
      "metadata": {
        "id": "B49LdRoP_73N"
      }
    },
    {
      "cell_type": "code",
      "source": [
        "def loadLabels():\n",
        "  dir = '/content/sample_data/dataset/dataset.xlsx'\n",
        "  df = pd.read_excel(dir)\n",
        "\n",
        "  labels_df = df['Метка класса']\n",
        "  labels = []\n",
        "\n",
        "  for label in labels_df:\n",
        "    # Метки идут от 1, поэтому - 1\n",
        "    labels.append(label - 1)\n",
        "\n",
        "  labels = np.array(labels)\n",
        "  label_cat = keras.utils.to_categorical(labels)\n",
        "\n",
        "  return label_cat"
      ],
      "metadata": {
        "id": "ghvJTb1f_Sm6"
      },
      "execution_count": 100,
      "outputs": []
    },
    {
      "cell_type": "markdown",
      "source": [
        "**Подготавливаем модель**"
      ],
      "metadata": {
        "id": "Tzojf-e_A5WK"
      }
    },
    {
      "cell_type": "code",
      "source": [
        "def prepareModel():\n",
        "  vgg_model = vgg16.VGG16(weights='imagenet', include_top=False, input_shape=(224,224,3))\n",
        "\n",
        "  model = Sequential()\n",
        "  model.add(vgg_model)\n",
        "  model.add(Flatten())\n",
        "  model.add(Dense(256, activation='relu'))\n",
        "  model.add(Dense(10, activation='softmax'))\n",
        "\n",
        "  # Разблокируем все последние слои для обучения\n",
        "  vgg_model.trainable = True\n",
        "  trainable = False\n",
        "  for layer in vgg_model.layers:\n",
        "      if layer.name == 'block5_conv1':\n",
        "          trainable = True\n",
        "      layer.trainable = trainable\n",
        "\n",
        "  return model"
      ],
      "metadata": {
        "id": "psqmYX6PAwOq"
      },
      "execution_count": 101,
      "outputs": []
    },
    {
      "cell_type": "markdown",
      "source": [
        "**Компилируем и обучаем модель**"
      ],
      "metadata": {
        "id": "3s6zkrzsDvsI"
      }
    },
    {
      "cell_type": "code",
      "source": [
        "def trainModel(model):\n",
        "  model = prepareModel()\n",
        "  model.compile(optimizer='Adam', loss='categorical_crossentropy', metrics='accuracy')\n",
        "  model.fit(X_train, y_train, epochs=3, batch_size=32, verbose=1)"
      ],
      "metadata": {
        "id": "CkHLkhTCDsZE"
      },
      "execution_count": 102,
      "outputs": []
    },
    {
      "cell_type": "code",
      "source": [
        "paths = loadPathsImages()\n",
        "images = loadImages(paths)\n",
        "\n",
        "X_train = np.asarray(resizeImages(images))\n",
        "y_train = loadLabels()"
      ],
      "metadata": {
        "id": "mW_yYusY-AsA"
      },
      "execution_count": null,
      "outputs": []
    },
    {
      "cell_type": "code",
      "source": [
        "model = prepareModel()\n",
        "trainModel(model)"
      ],
      "metadata": {
        "id": "MLxS-Iy9TUBc"
      },
      "execution_count": null,
      "outputs": []
    },
    {
      "cell_type": "markdown",
      "source": [
        "**Тест модели**"
      ],
      "metadata": {
        "id": "4wZfKBTuX2Er"
      }
    },
    {
      "cell_type": "code",
      "source": [
        "image = Image.open('/content/sample_data/test.jpg')\n",
        "image = np.array(image)\n",
        "image = cv2.resize(image, (224, 224))\n",
        "image = image / 255\n",
        "\n",
        "print(X_train[0].shape)\n",
        "print(image.shape)\n",
        "image = np.expand_dims(image, axis=0)\n",
        "pred = model.predict(image)\n",
        "print(classes[np.argmax(pred)])"
      ],
      "metadata": {
        "colab": {
          "base_uri": "https://localhost:8080/"
        },
        "id": "c7csodjYV60g",
        "outputId": "55f245fb-305e-4cf3-c33b-16ad1b65b378"
      },
      "execution_count": 123,
      "outputs": [
        {
          "output_type": "stream",
          "name": "stdout",
          "text": [
            "(224, 224, 3)\n",
            "(224, 224, 3)\n",
            "1/1 [==============================] - 1s 555ms/step\n",
            "Гора\n"
          ]
        }
      ]
    }
  ]
}